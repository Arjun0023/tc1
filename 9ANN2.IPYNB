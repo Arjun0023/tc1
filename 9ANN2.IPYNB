{
 "cells": [
  {
   "cell_type": "code",
   "execution_count": 1,
   "metadata": {},
   "outputs": [],
   "source": [
    "import numpy as np\n",
    "import matplotlib.pyplot as plt\n",
    "from sklearn.datasets import load_breast_cancer\n",
    "from sklearn.model_selection import train_test_split\n",
    "from sklearn.preprocessing import StandardScaler\n",
    "from keras.models import Sequential\n",
    "from keras.layers import Dense\n",
    "from sklearn.metrics import accuracy_score"
   ]
  },
  {
   "cell_type": "code",
   "execution_count": 2,
   "metadata": {},
   "outputs": [],
   "source": [
    "# load datasets\n",
    "cancer = load_breast_cancer()\n",
    "x = cancer.data\n",
    "y = cancer.target"
   ]
  },
  {
   "cell_type": "code",
   "execution_count": 3,
   "metadata": {},
   "outputs": [],
   "source": [
    "# split the dataset into training and testing sets\n",
    "x_train,x_test,y_train, y_test = train_test_split(x,y,test_size=0.2,random_state=42)"
   ]
  },
  {
   "cell_type": "code",
   "execution_count": 4,
   "metadata": {},
   "outputs": [],
   "source": [
    "# standardize the data\n",
    "scaler = StandardScaler()\n",
    "x_train = scaler.fit_transform(x_train)\n",
    "x_test = scaler.transform(x_test)"
   ]
  },
  {
   "cell_type": "code",
   "execution_count": 5,
   "metadata": {},
   "outputs": [],
   "source": [
    "# build a simple feedforward neural network using keras\n",
    "model = Sequential()\n",
    "model.add(Dense(units=16, activation='relu', input_dim = x_train.shape[1]))\n",
    "model.add(Dense(units= 1, activation='sigmoid'))"
   ]
  },
  {
   "cell_type": "code",
   "execution_count": 6,
   "metadata": {},
   "outputs": [],
   "source": [
    "# compile the model\n",
    "model.compile(optimizer='adam',loss='binary_crossentropy', metrics=['accuracy'])"
   ]
  },
  {
   "cell_type": "code",
   "execution_count": 7,
   "metadata": {},
   "outputs": [
    {
     "name": "stdout",
     "output_type": "stream",
     "text": [
      "Epoch 1/50\n",
      "13/13 [==============================] - 1s 20ms/step - loss: 0.8733 - accuracy: 0.4939 - val_loss: 0.7209 - val_accuracy: 0.5652\n",
      "Epoch 2/50\n",
      "13/13 [==============================] - 0s 5ms/step - loss: 0.6421 - accuracy: 0.6724 - val_loss: 0.5561 - val_accuracy: 0.7391\n",
      "Epoch 3/50\n",
      "13/13 [==============================] - 0s 5ms/step - loss: 0.4886 - accuracy: 0.8044 - val_loss: 0.4424 - val_accuracy: 0.8261\n",
      "Epoch 4/50\n",
      "13/13 [==============================] - 0s 5ms/step - loss: 0.3893 - accuracy: 0.8704 - val_loss: 0.3667 - val_accuracy: 0.9130\n",
      "Epoch 5/50\n",
      "13/13 [==============================] - 0s 5ms/step - loss: 0.3266 - accuracy: 0.9120 - val_loss: 0.3161 - val_accuracy: 0.9130\n",
      "Epoch 6/50\n",
      "13/13 [==============================] - 0s 5ms/step - loss: 0.2838 - accuracy: 0.9242 - val_loss: 0.2791 - val_accuracy: 0.9130\n",
      "Epoch 7/50\n",
      "13/13 [==============================] - 0s 5ms/step - loss: 0.2526 - accuracy: 0.9291 - val_loss: 0.2529 - val_accuracy: 0.9130\n",
      "Epoch 8/50\n",
      "13/13 [==============================] - 0s 5ms/step - loss: 0.2286 - accuracy: 0.9340 - val_loss: 0.2316 - val_accuracy: 0.9130\n",
      "Epoch 9/50\n",
      "13/13 [==============================] - 0s 5ms/step - loss: 0.2090 - accuracy: 0.9364 - val_loss: 0.2154 - val_accuracy: 0.9348\n",
      "Epoch 10/50\n",
      "13/13 [==============================] - 0s 5ms/step - loss: 0.1933 - accuracy: 0.9413 - val_loss: 0.2013 - val_accuracy: 0.9348\n",
      "Epoch 11/50\n",
      "13/13 [==============================] - 0s 5ms/step - loss: 0.1799 - accuracy: 0.9487 - val_loss: 0.1902 - val_accuracy: 0.9130\n",
      "Epoch 12/50\n",
      "13/13 [==============================] - 0s 7ms/step - loss: 0.1690 - accuracy: 0.9535 - val_loss: 0.1806 - val_accuracy: 0.9130\n",
      "Epoch 13/50\n",
      "13/13 [==============================] - 0s 6ms/step - loss: 0.1594 - accuracy: 0.9535 - val_loss: 0.1726 - val_accuracy: 0.9130\n",
      "Epoch 14/50\n",
      "13/13 [==============================] - 0s 5ms/step - loss: 0.1510 - accuracy: 0.9560 - val_loss: 0.1650 - val_accuracy: 0.9130\n",
      "Epoch 15/50\n",
      "13/13 [==============================] - 0s 6ms/step - loss: 0.1438 - accuracy: 0.9584 - val_loss: 0.1584 - val_accuracy: 0.9130\n",
      "Epoch 16/50\n",
      "13/13 [==============================] - 0s 5ms/step - loss: 0.1371 - accuracy: 0.9584 - val_loss: 0.1527 - val_accuracy: 0.9130\n",
      "Epoch 17/50\n",
      "13/13 [==============================] - 0s 5ms/step - loss: 0.1311 - accuracy: 0.9609 - val_loss: 0.1472 - val_accuracy: 0.9130\n",
      "Epoch 18/50\n",
      "13/13 [==============================] - 0s 5ms/step - loss: 0.1260 - accuracy: 0.9633 - val_loss: 0.1419 - val_accuracy: 0.9130\n",
      "Epoch 19/50\n",
      "13/13 [==============================] - 0s 5ms/step - loss: 0.1209 - accuracy: 0.9707 - val_loss: 0.1381 - val_accuracy: 0.9348\n",
      "Epoch 20/50\n",
      "13/13 [==============================] - 0s 5ms/step - loss: 0.1164 - accuracy: 0.9707 - val_loss: 0.1342 - val_accuracy: 0.9348\n",
      "Epoch 21/50\n",
      "13/13 [==============================] - 0s 5ms/step - loss: 0.1125 - accuracy: 0.9707 - val_loss: 0.1301 - val_accuracy: 0.9348\n",
      "Epoch 22/50\n",
      "13/13 [==============================] - 0s 5ms/step - loss: 0.1086 - accuracy: 0.9707 - val_loss: 0.1267 - val_accuracy: 0.9565\n",
      "Epoch 23/50\n",
      "13/13 [==============================] - 0s 5ms/step - loss: 0.1050 - accuracy: 0.9707 - val_loss: 0.1239 - val_accuracy: 0.9565\n",
      "Epoch 24/50\n",
      "13/13 [==============================] - 0s 5ms/step - loss: 0.1016 - accuracy: 0.9731 - val_loss: 0.1210 - val_accuracy: 0.9565\n",
      "Epoch 25/50\n",
      "13/13 [==============================] - 0s 5ms/step - loss: 0.0987 - accuracy: 0.9731 - val_loss: 0.1181 - val_accuracy: 0.9783\n",
      "Epoch 26/50\n",
      "13/13 [==============================] - 0s 5ms/step - loss: 0.0958 - accuracy: 0.9731 - val_loss: 0.1164 - val_accuracy: 0.9783\n",
      "Epoch 27/50\n",
      "13/13 [==============================] - 0s 5ms/step - loss: 0.0929 - accuracy: 0.9731 - val_loss: 0.1141 - val_accuracy: 0.9783\n",
      "Epoch 28/50\n",
      "13/13 [==============================] - 0s 5ms/step - loss: 0.0905 - accuracy: 0.9731 - val_loss: 0.1115 - val_accuracy: 0.9783\n",
      "Epoch 29/50\n",
      "13/13 [==============================] - 0s 5ms/step - loss: 0.0882 - accuracy: 0.9731 - val_loss: 0.1099 - val_accuracy: 0.9783\n",
      "Epoch 30/50\n",
      "13/13 [==============================] - 0s 5ms/step - loss: 0.0859 - accuracy: 0.9731 - val_loss: 0.1080 - val_accuracy: 0.9783\n",
      "Epoch 31/50\n",
      "13/13 [==============================] - 0s 7ms/step - loss: 0.0837 - accuracy: 0.9731 - val_loss: 0.1064 - val_accuracy: 0.9783\n",
      "Epoch 32/50\n",
      "13/13 [==============================] - 0s 5ms/step - loss: 0.0818 - accuracy: 0.9780 - val_loss: 0.1051 - val_accuracy: 0.9783\n",
      "Epoch 33/50\n",
      "13/13 [==============================] - 0s 5ms/step - loss: 0.0799 - accuracy: 0.9804 - val_loss: 0.1034 - val_accuracy: 0.9783\n",
      "Epoch 34/50\n",
      "13/13 [==============================] - 0s 4ms/step - loss: 0.0782 - accuracy: 0.9829 - val_loss: 0.1018 - val_accuracy: 0.9783\n",
      "Epoch 35/50\n",
      "13/13 [==============================] - 0s 5ms/step - loss: 0.0763 - accuracy: 0.9878 - val_loss: 0.1006 - val_accuracy: 0.9783\n",
      "Epoch 36/50\n",
      "13/13 [==============================] - 0s 5ms/step - loss: 0.0746 - accuracy: 0.9878 - val_loss: 0.0998 - val_accuracy: 0.9783\n",
      "Epoch 37/50\n",
      "13/13 [==============================] - 0s 5ms/step - loss: 0.0731 - accuracy: 0.9878 - val_loss: 0.0989 - val_accuracy: 0.9783\n",
      "Epoch 38/50\n",
      "13/13 [==============================] - 0s 6ms/step - loss: 0.0715 - accuracy: 0.9878 - val_loss: 0.0977 - val_accuracy: 0.9783\n",
      "Epoch 39/50\n",
      "13/13 [==============================] - 0s 5ms/step - loss: 0.0701 - accuracy: 0.9878 - val_loss: 0.0968 - val_accuracy: 0.9783\n",
      "Epoch 40/50\n",
      "13/13 [==============================] - 0s 5ms/step - loss: 0.0686 - accuracy: 0.9878 - val_loss: 0.0955 - val_accuracy: 0.9783\n",
      "Epoch 41/50\n",
      "13/13 [==============================] - 0s 5ms/step - loss: 0.0673 - accuracy: 0.9878 - val_loss: 0.0946 - val_accuracy: 0.9783\n",
      "Epoch 42/50\n",
      "13/13 [==============================] - 0s 4ms/step - loss: 0.0659 - accuracy: 0.9878 - val_loss: 0.0940 - val_accuracy: 0.9783\n",
      "Epoch 43/50\n",
      "13/13 [==============================] - 0s 5ms/step - loss: 0.0650 - accuracy: 0.9878 - val_loss: 0.0932 - val_accuracy: 0.9783\n",
      "Epoch 44/50\n",
      "13/13 [==============================] - 0s 4ms/step - loss: 0.0635 - accuracy: 0.9878 - val_loss: 0.0923 - val_accuracy: 0.9783\n",
      "Epoch 45/50\n",
      "13/13 [==============================] - 0s 5ms/step - loss: 0.0625 - accuracy: 0.9878 - val_loss: 0.0917 - val_accuracy: 0.9783\n",
      "Epoch 46/50\n",
      "13/13 [==============================] - 0s 5ms/step - loss: 0.0615 - accuracy: 0.9878 - val_loss: 0.0906 - val_accuracy: 0.9783\n",
      "Epoch 47/50\n",
      "13/13 [==============================] - 0s 4ms/step - loss: 0.0604 - accuracy: 0.9878 - val_loss: 0.0899 - val_accuracy: 0.9783\n",
      "Epoch 48/50\n",
      "13/13 [==============================] - 0s 5ms/step - loss: 0.0594 - accuracy: 0.9878 - val_loss: 0.0895 - val_accuracy: 0.9783\n",
      "Epoch 49/50\n",
      "13/13 [==============================] - 0s 4ms/step - loss: 0.0584 - accuracy: 0.9878 - val_loss: 0.0887 - val_accuracy: 0.9783\n",
      "Epoch 50/50\n",
      "13/13 [==============================] - 0s 5ms/step - loss: 0.0575 - accuracy: 0.9878 - val_loss: 0.0880 - val_accuracy: 0.9783\n"
     ]
    }
   ],
   "source": [
    "# train the model\n",
    "history = model.fit(x_train,y_train ,epochs=50, batch_size=32, validation_split=0.1, verbose=1)"
   ]
  },
  {
   "cell_type": "code",
   "execution_count": 8,
   "metadata": {},
   "outputs": [
    {
     "data": {
      "image/png": "[encoded data removed]",
      "text/plain": [
       "<Figure size 640x480 with 1 Axes>"
      ]
     },
     "metadata": {},
     "output_type": "display_data"
    }
   ],
   "source": [
    "# plot the training loss and validation loss over epochs\n",
    "plt.plot(history.history['loss'], label='Training Loss')\n",
    "plt.plot(history.history['val_loss'], label='Validation Loss')\n",
    "plt.title('Training and Validation Loss')\n",
    "plt.xlabel('epoch')\n",
    "plt.ylabel('loss')\n",
    "plt.legend()\n",
    "plt.show()"
   ]
  },
  {
   "cell_type": "code",
   "execution_count": 9,
   "metadata": {},
   "outputs": [
    {
     "name": "stdout",
     "output_type": "stream",
     "text": [
      "4/4 [==============================] - 0s 3ms/step\n"
     ]
    }
   ],
   "source": [
    "#make prediction on the test set\n",
    "pred_probs = model.predict(x_test)\n",
    "pred_labels = (pred_probs >0.5).astype(int)"
   ]
  },
  {
   "cell_type": "code",
   "execution_count": 10,
   "metadata": {},
   "outputs": [
    {
     "name": "stdout",
     "output_type": "stream",
     "text": [
      "96.49122807017544\n"
     ]
    }
   ],
   "source": [
    "# calculate accuracy\n",
    "accuracy = accuracy_score(y_test, pred_labels)\n",
    "print(format(accuracy*100))"
   ]
  }
 ],
 "metadata": {
  "kernelspec": {
   "display_name": "Python 3",
   "language": "python",
   "name": "python3"
  },
  "language_info": {
   "codemirror_mode": {
    "name": "ipython",
    "version": 3
   },
   "file_extension": ".py",
   "mimetype": "text/x-python",
   "name": "python",
   "nbconvert_exporter": "python",
   "pygments_lexer": "ipython3",
   "version": "3.9.5"
  }
 },
 "nbformat": 4,
 "nbformat_minor": 2
}
